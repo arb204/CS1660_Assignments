{
 "cells": [
  {
   "cell_type": "code",
   "execution_count": 1,
   "id": "b03e3ce0",
   "metadata": {},
   "outputs": [],
   "source": [
    "import boto3"
   ]
  },
  {
   "cell_type": "code",
   "execution_count": 2,
   "id": "17afd07c",
   "metadata": {},
   "outputs": [],
   "source": [
    "s3 = boto3.resource('s3',\n",
    "aws_access_key_id='',\n",
    "aws_secret_access_key=''\n",
    ")"
   ]
  },
  {
   "cell_type": "code",
   "execution_count": 3,
   "id": "b38c06a0",
   "metadata": {},
   "outputs": [
    {
     "name": "stdout",
     "output_type": "stream",
     "text": [
      "An error occurred (BucketAlreadyOwnedByYou) when calling the CreateBucket operation: Your previous request to create the named bucket succeeded and you already own it.\n"
     ]
    }
   ],
   "source": [
    "try:\n",
    "    s3.create_bucket(Bucket='brothers-data', CreateBucketConfiguration={\n",
    "        'LocationConstraint': 'us-west-2'})\n",
    "except Exception as e:\n",
    "    print (e)"
   ]
  },
  {
   "cell_type": "code",
   "execution_count": 4,
   "id": "36dd624b",
   "metadata": {},
   "outputs": [],
   "source": [
    "bucket = s3.Bucket(\"brothers-data\")"
   ]
  },
  {
   "cell_type": "code",
   "execution_count": 5,
   "id": "43c14a5e",
   "metadata": {},
   "outputs": [
    {
     "data": {
      "text/plain": [
       "{'ResponseMetadata': {'RequestId': 'KMASJH41EVM7ENRT',\n",
       "  'HostId': 'oISUHw5hFYaymZkhDV8d6rlD6XLsXRRy2U5V0GRh3aQCncqGMQnvgiMJ+SUwCe6DVvnj5hmNsic=',\n",
       "  'HTTPStatusCode': 200,\n",
       "  'HTTPHeaders': {'x-amz-id-2': 'oISUHw5hFYaymZkhDV8d6rlD6XLsXRRy2U5V0GRh3aQCncqGMQnvgiMJ+SUwCe6DVvnj5hmNsic=',\n",
       "   'x-amz-request-id': 'KMASJH41EVM7ENRT',\n",
       "   'date': 'Tue, 26 Oct 2021 01:08:26 GMT',\n",
       "   'server': 'AmazonS3',\n",
       "   'content-length': '0'},\n",
       "  'RetryAttempts': 0}}"
      ]
     },
     "execution_count": 5,
     "metadata": {},
     "output_type": "execute_result"
    }
   ],
   "source": [
    "bucket.Acl().put(ACL='public-read')"
   ]
  },
  {
   "cell_type": "code",
   "execution_count": 7,
   "id": "adff26a2",
   "metadata": {},
   "outputs": [],
   "source": [
    "body = open(r'C:\\\\Users\\\\blott\\OneDrive\\Desktop\\CS1660_Assignments\\NoSQL\\CS1660-Data\\exp1.csv', 'rb')"
   ]
  },
  {
   "cell_type": "code",
   "execution_count": 8,
   "id": "b7982b04",
   "metadata": {},
   "outputs": [],
   "source": [
    "o = s3.Object('brothers-data', 'test').put(Body=body )"
   ]
  },
  {
   "cell_type": "code",
   "execution_count": 9,
   "id": "8581d279",
   "metadata": {},
   "outputs": [
    {
     "data": {
      "text/plain": [
       "{'ResponseMetadata': {'RequestId': '8VBS8K6NY0C40HM8',\n",
       "  'HostId': 'I/yZrga6arPr1CEQYySX1h9no4VN73XB8Fvb7Aphh+/09IduYJKsYEN0e+mgN+lvwfNuqa93T+s=',\n",
       "  'HTTPStatusCode': 200,\n",
       "  'HTTPHeaders': {'x-amz-id-2': 'I/yZrga6arPr1CEQYySX1h9no4VN73XB8Fvb7Aphh+/09IduYJKsYEN0e+mgN+lvwfNuqa93T+s=',\n",
       "   'x-amz-request-id': '8VBS8K6NY0C40HM8',\n",
       "   'date': 'Tue, 26 Oct 2021 01:10:28 GMT',\n",
       "   'server': 'AmazonS3',\n",
       "   'content-length': '0'},\n",
       "  'RetryAttempts': 0}}"
      ]
     },
     "execution_count": 9,
     "metadata": {},
     "output_type": "execute_result"
    }
   ],
   "source": [
    "s3.Object('brothers-data', 'test').Acl().put(ACL='public-read')"
   ]
  },
  {
   "cell_type": "code",
   "execution_count": 10,
   "id": "a990b3e5",
   "metadata": {},
   "outputs": [],
   "source": [
    "dyndb = boto3.resource('dynamodb',\n",
    "region_name='us-west-2',\n",
    "aws_access_key_id='',\n",
    "aws_secret_access_key=''\n",
    ")"
   ]
  },
  {
   "cell_type": "code",
   "execution_count": 11,
   "id": "9bad5c8e",
   "metadata": {},
   "outputs": [
    {
     "name": "stdout",
     "output_type": "stream",
     "text": [
      "An error occurred (ResourceInUseException) when calling the CreateTable operation: Table already exists: brothers-data-table\n"
     ]
    }
   ],
   "source": [
    "try:\n",
    "    table = dyndb.create_table(\n",
    "        TableName='brothers-data-table',\n",
    "        KeySchema=[\n",
    "            {\n",
    "                'AttributeName': 'PartitionKey',\n",
    "                'KeyType': 'HASH'\n",
    "            },\n",
    "            {\n",
    "                'AttributeName': 'RowKey',\n",
    "                'KeyType': 'RANGE'\n",
    "            }\n",
    "        ],\n",
    "        AttributeDefinitions=[\n",
    "            {\n",
    "                'AttributeName': 'PartitionKey',\n",
    "                'AttributeType': 'S'\n",
    "            },\n",
    "            {\n",
    "                'AttributeName': 'RowKey',\n",
    "                'AttributeType': 'S'\n",
    "            },\n",
    "        ],\n",
    "        ProvisionedThroughput={\n",
    "            'ReadCapacityUnits': 5,\n",
    "            'WriteCapacityUnits': 5\n",
    "        }\n",
    "    )\n",
    "except Exception as e:\n",
    "    print (e)\n",
    "    table = dyndb.Table(\"brothers-data-table\")"
   ]
  },
  {
   "cell_type": "code",
   "execution_count": 12,
   "id": "29da3bcb",
   "metadata": {},
   "outputs": [],
   "source": [
    "table.meta.client.get_waiter('table_exists').wait(TableName='brothers-data-table')"
   ]
  },
  {
   "cell_type": "code",
   "execution_count": 13,
   "id": "e5899888",
   "metadata": {},
   "outputs": [
    {
     "name": "stdout",
     "output_type": "stream",
     "text": [
      "0\n"
     ]
    }
   ],
   "source": [
    "print(table.item_count)"
   ]
  },
  {
   "cell_type": "code",
   "execution_count": 14,
   "id": "73d1d271",
   "metadata": {},
   "outputs": [],
   "source": [
    "import csv"
   ]
  },
  {
   "cell_type": "code",
   "execution_count": 15,
   "id": "679b93ed",
   "metadata": {},
   "outputs": [
    {
     "name": "stdout",
     "output_type": "stream",
     "text": [
      "['1', '-1', '52', '3.4', 'exp1.csv']\n",
      "['2', '-2', '52.1', '3.4', 'exp2.csv']\n",
      "['3', '-2.93', '57.1', '3.7', 'exp3.csv']\n"
     ]
    }
   ],
   "source": [
    "with open(r'C:\\\\Users\\\\blott\\OneDrive\\Desktop\\CS1660_Assignments\\NoSQL\\CS1660-Data\\experiments.csv', 'r') as csvfile:\n",
    "    csvf = csv.reader(csvfile, delimiter=',', quotechar='|')\n",
    "    next(csvf)\n",
    "    for item in csvf:\n",
    "        print(item)\n",
    "        body = open(r'C:\\\\Users\\\\blott\\OneDrive\\Desktop\\CS1660_Assignments\\NoSQL\\CS1660-Data\\\\'+item[4], 'rb')\n",
    "        s3.Object('brothers-data', item[4]).put(Body=body )\n",
    "        md = s3.Object('brothers-data', item[4]).Acl().put(ACL='public-read')\n",
    "        url = \" https://s3-us-west-2.amazonaws.com/brothers-data/\"+item[4]+\" \"\n",
    "        metadata_item = {'PartitionKey': item[0], 'RowKey': item[1],\n",
    "                'description' : item[4], 'date' : item[2], 'url':url\n",
    "                        }\n",
    "        try:\n",
    "            table.put_item(Item=metadata_item)\n",
    "        except:\n",
    "            print(\"item may already be there or another failure\")"
   ]
  },
  {
   "cell_type": "code",
   "execution_count": 16,
   "id": "9a23b758",
   "metadata": {},
   "outputs": [
    {
     "name": "stdout",
     "output_type": "stream",
     "text": [
      "{'PartitionKey': '3', 'RowKey': '-2.93', 'date': '57.1', 'description': 'exp3.csv', 'url': ' https://s3-us-west-2.amazonaws.com/brothers-data/exp3.csv '}\n"
     ]
    }
   ],
   "source": [
    "response = table.get_item(\n",
    "    Key={\n",
    "        'PartitionKey': '3',\n",
    "        'RowKey': '-2.93'\n",
    "    }\n",
    ")\n",
    "item = response['Item']\n",
    "print(item)"
   ]
  },
  {
   "cell_type": "code",
   "execution_count": 17,
   "id": "e8ea0907",
   "metadata": {},
   "outputs": [
    {
     "data": {
      "text/plain": [
       "{'Item': {'PartitionKey': '3',\n",
       "  'RowKey': '-2.93',\n",
       "  'date': '57.1',\n",
       "  'description': 'exp3.csv',\n",
       "  'url': ' https://s3-us-west-2.amazonaws.com/brothers-data/exp3.csv '},\n",
       " 'ResponseMetadata': {'RequestId': 'S0KV7OLKK6VD8EBIBHM6G0C21VVV4KQNSO5AEMVJF66Q9ASUAAJG',\n",
       "  'HTTPStatusCode': 200,\n",
       "  'HTTPHeaders': {'server': 'Server',\n",
       "   'date': 'Tue, 26 Oct 2021 01:10:51 GMT',\n",
       "   'content-type': 'application/x-amz-json-1.0',\n",
       "   'content-length': '183',\n",
       "   'connection': 'keep-alive',\n",
       "   'x-amzn-requestid': 'S0KV7OLKK6VD8EBIBHM6G0C21VVV4KQNSO5AEMVJF66Q9ASUAAJG',\n",
       "   'x-amz-crc32': '205053306'},\n",
       "  'RetryAttempts': 0}}"
      ]
     },
     "execution_count": 17,
     "metadata": {},
     "output_type": "execute_result"
    }
   ],
   "source": [
    "response"
   ]
  }
 ],
 "metadata": {
  "kernelspec": {
   "display_name": "Python 3",
   "language": "python",
   "name": "python3"
  },
  "language_info": {
   "codemirror_mode": {
    "name": "ipython",
    "version": 3
   },
   "file_extension": ".py",
   "mimetype": "text/x-python",
   "name": "python",
   "nbconvert_exporter": "python",
   "pygments_lexer": "ipython3",
   "version": "3.8.8"
  }
 },
 "nbformat": 4,
 "nbformat_minor": 5
}
